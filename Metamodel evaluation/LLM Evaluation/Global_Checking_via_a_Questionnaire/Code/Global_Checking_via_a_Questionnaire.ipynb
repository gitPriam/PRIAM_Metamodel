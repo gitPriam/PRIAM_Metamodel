{
  "nbformat": 4,
  "nbformat_minor": 0,
  "metadata": {
    "colab": {
      "provenance": []
    },
    "kernelspec": {
      "name": "python3",
      "display_name": "Python 3"
    },
    "language_info": {
      "name": "python"
    }
  },
  "cells": [
    {
      "cell_type": "code",
      "source": [
        "pip install mistralai"
      ],
      "metadata": {
        "id": "Zi5lDfZEdZln"
      },
      "execution_count": null,
      "outputs": []
    },
    {
      "cell_type": "code",
      "execution_count": null,
      "metadata": {
        "id": "uvfGbXu7dDV3"
      },
      "outputs": [],
      "source": [
        "import time\n",
        "from mistralai import Mistral\n",
        "\n",
        "# Configuration Mistral\n",
        "MISTRAL_API_KEY = \"Add your Key API\"\n",
        "\n",
        "client = Mistral(api_key=MISTRAL_API_KEY)\n",
        "model = \"mistral-large-latest\"\n",
        "\n",
        "def load_text_file(file_path):\n",
        "    \"\"\"Loads the contents of a text file.\"\"\"\n",
        "    with open(file_path, 'r', encoding='utf-8') as file:\n",
        "        return file.read().strip()\n",
        "\n",
        "def load_questions(file_path):\n",
        "    \"\"\"Loads questions from a text file.\"\"\"\n",
        "    with open(file_path, 'r', encoding='utf-8') as file:\n",
        "        return [line.strip() for line in file if line.strip()]\n",
        "\n",
        "def generate_prompt(base_prompt1, question,base_prompt2):\n",
        "    \"\"\"Generates a prompt combined with the question.\"\"\"\n",
        "    return f\"{base_prompt1}\\n\\n{question}\\n\\n{base_prompt2}\".strip()\n",
        "\n",
        "def process_questions(questions, base_prompt1, base_prompt2):\n",
        "    \"\"\"Processes questions and returns results.\"\"\"\n",
        "    results = []\n",
        "\n",
        "    for i, question in enumerate(questions, 1):\n",
        "        retry_count = 0\n",
        "        max_retries = 5\n",
        "        initial_sleep_time = 2\n",
        "         # Temps de sleep initial en secondes\n",
        "\n",
        "        while retry_count < max_retries:\n",
        "            try:\n",
        "                prompt = generate_prompt(base_prompt1, question,base_prompt2)\n",
        "                response = client.chat.complete(\n",
        "                    model=model,\n",
        "                    messages=[{\"role\": \"user\", \"content\": prompt}],\n",
        "                    temperature=0\n",
        "                )\n",
        "\n",
        "                content = response.choices[0].message.content\n",
        "                results.append(f\"Question {i}: {question}\\n{content}\\n\")\n",
        "                break  # Sortir de la boucle si la requête réussit\n",
        "\n",
        "            except Exception as e:\n",
        "                if hasattr(e, 'status_code') and e.status_code == 429:\n",
        "                    retry_count += 1\n",
        "                    sleep_time = initial_sleep_time * (2 ** (retry_count - 1))  # Temps de sleep progressif\n",
        "                    print(f\"Error 429: retry {retry_count} in {sleep_time} seconds...\")\n",
        "                    time.sleep(sleep_time)\n",
        "                else:\n",
        "                    results.append(f\"Question {i}: {question}\\nErreur: {str(e)}\\n\")\n",
        "                    break  # Sortir de la boucle en cas d'autre erreur\n",
        "\n",
        "        if retry_count == max_retries:\n",
        "            results.append(f\"Question {i}: {question}\\nErreur: Maximum number of attempts reached.\\n\")\n",
        "\n",
        "    return results\n",
        "\n",
        "def save_results(results, filename):\n",
        "    \"\"\"Saves results in a text file.\"\"\"\n",
        "    with open(filename, 'w', encoding='utf-8') as f:\n",
        "        for result in results:\n",
        "            f.write(result + \"\\n\" + \"-\"*50 + \"\\n\")\n",
        "\n",
        "def main():\n",
        "    base_prompt1 = load_text_file(\"prompt mistral1.txt\")\n",
        "    base_prompt2 = load_text_file(\"prompt mistral2.txt\")\n",
        "    questions = load_questions(\"questionnaire.txt\")\n",
        "    results = process_questions(questions, base_prompt1, base_prompt2)\n",
        "    save_results(results, \"gdpr_evaluation.txt\")\n",
        "    print(results)\n",
        "    print(\"Evaluation completed. Results saved in gdpr_evaluation.txt\")\n",
        "\n",
        "\n",
        "if __name__ == \"__main__\":\n",
        "    main()"
      ]
    },
    {
      "cell_type": "code",
      "source": [
        "#stat by options\n",
        "import re\n",
        "from collections import Counter\n",
        "\n",
        "def analyze_modeling_status(file_path):\n",
        "    status_counts = Counter()\n",
        "\n",
        "    with open(file_path, 'r', encoding='utf-8') as file:\n",
        "        content = file.read()\n",
        "\n",
        "    # Expression régulière pour capturer le statut de modélisation\n",
        "    matches = re.findall(r'This question is:\\s*(Fully modeled|Partially modeled|Not modeled|Should not be modeled)', content, re.IGNORECASE)\n",
        "\n",
        "    # Comptabilisation des occurrences\n",
        "    for match in matches:\n",
        "        status_counts[match.lower()] += 1\n",
        "\n",
        "    # Affichage des résultats\n",
        "    for status, count in status_counts.items():\n",
        "        print(f\"{status.capitalize()}: {count}\")\n",
        "\n",
        "# Exemple d'utilisation\n",
        "file_path = \"gdpr_evaluation.txt\"  # Remplacez par le chemin de votre fichier\n",
        "analyze_modeling_status(file_path)"
      ],
      "metadata": {
        "id": "4ay0PzUVdSeF"
      },
      "execution_count": null,
      "outputs": []
    }
  ]
}